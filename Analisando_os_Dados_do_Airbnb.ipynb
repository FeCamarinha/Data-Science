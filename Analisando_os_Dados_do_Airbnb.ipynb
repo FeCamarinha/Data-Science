{
  "nbformat": 4,
  "nbformat_minor": 0,
  "metadata": {
    "colab": {
      "name": "Analisando os Dados do Airbnb.ipynb",
      "provenance": [],
      "collapsed_sections": [],
      "include_colab_link": true
    },
    "kernelspec": {
      "name": "python3",
      "display_name": "Python 3"
    }
  },
  "cells": [
    {
      "cell_type": "markdown",
      "metadata": {
        "id": "view-in-github",
        "colab_type": "text"
      },
      "source": [
        "<a href=\"https://colab.research.google.com/github/FeCamarinha/Data-Science/blob/main/Analisando_os_Dados_do_Airbnb.ipynb\" target=\"_parent\"><img src=\"https://colab.research.google.com/assets/colab-badge.svg\" alt=\"Open In Colab\"/></a>"
      ]
    },
    {
      "cell_type": "markdown",
      "metadata": {
        "id": "kLI0gJtzDGuQ"
      },
      "source": [
        "<img alt=\"Colaboratory logo\" width=\"15%\" src=\"https://raw.githubusercontent.com/carlosfab/escola-data-science/master/img/novo_logo_bg_claro.png\">\n",
        "\n",
        "#### **Data Science na Prática 3.0**\n",
        "*by [fecamarinha](https://www.linkedin.com/in/fernanda-seraphim-camarinha/)*\n",
        "\n",
        "---\n",
        "\n",
        "# Análise dos Dados do Airbnb - *Zurich - Suíça*\n",
        "\n",
        "O [Airbnb](https://www.airbnb.com.br/) já é considerado como sendo a **maior empresa hoteleira da atualidade**. Ah, o detalhe é que ele **não possui nenhum hotel**!\n",
        "\n",
        "Conectando pessoas que querem viajar (e se hospedar) com anfitriões que querem alugar seus imóveis de maneira prática, o Airbnb fornece uma plataforma inovadora para tornar essa hospedagem alternativa.\n",
        "\n",
        "No final de 2018, a Startup fundada 10 anos atrás, já havia **hospedado mais de 300 milhões** de pessoas ao redor de todo o mundo, desafiando as redes hoteleiras tradicionais.\n",
        "\n",
        "Uma das iniciativas do Airbnb é disponibilizar dados do site, para algumas das principais cidades do mundo. Por meio do portal [Inside Airbnb](http://insideairbnb.com/get-the-data.html), é possível baixar uma grande quantidade de dados para desenvolver projetos e soluções de *Data Science*.\n",
        "\n",
        "<center><img alt=\"Analisando Airbnb\" width=\"10%\" src=\"https://www.area360.com.au/wp-content/uploads/2017/09/airbnb-logo.jpg\"></center>\n",
        "\n",
        "**Neste *notebook*, iremos analisar os dados referentes à cidade de Zurich, e ver quais insights podem ser extraídos a partir de dados brutos.**"
      ]
    },
    {
      "cell_type": "markdown",
      "metadata": {
        "id": "0zxQHhIUDF_2"
      },
      "source": [
        "## Obtenção dos Dados\n"
      ]
    },
    {
      "cell_type": "markdown",
      "metadata": {
        "id": "8YHz-809sJoG"
      },
      "source": [
        "Os dados utilizados estão no site [Inside Airbnb](http://insideairbnb.com/get-the-data.html) e para nossa análise, que é inicial, utilizaremos o seguinte arquivo:\n",
        "\n",
        "*   \t[listings.csv](http://data.insideairbnb.com/switzerland/z%C3%BCrich/zurich/2021-06-30/visualisations/listings.csv) - \tSummary information and metrics for listings in Zurich (good for visualisations)\n",
        "\n",
        "Importante: Como os dados do site estão em constante atualização, o que utilizamos aqui são de 30 Junho de 2021, disponibizaremos [aqui](https://drive.google.com/drive/folders/1KVywcVYBLs1smwYkaHhrlbGfc2BfgnoS?usp=sharing) os dados utilizados, assim você poderá replicar o material com os dados originais.\n"
      ]
    },
    {
      "cell_type": "code",
      "metadata": {
        "id": "Vhp2wMPgJ6zX"
      },
      "source": [
        "# importar os pacotes necessarios\n",
        "import pandas as pd\n",
        "import matplotlib.pyplot as plt\n",
        "import seaborn as sns"
      ],
      "execution_count": 3,
      "outputs": []
    },
    {
      "cell_type": "code",
      "metadata": {
        "id": "tUmoAT8DLQ5T"
      },
      "source": [
        "# importar o arquivo listings.csv para um DataFrame\n",
        "df = pd.read_csv(\"https://raw.githubusercontent.com/FeCamarinha/Data-Science/main/Airbnb\")"
      ],
      "execution_count": 4,
      "outputs": []
    },
    {
      "cell_type": "markdown",
      "metadata": {
        "id": "qb5By2nIMS6m"
      },
      "source": [
        "## Análise dos Dados\n",
        "Nesta etapa analisaremos quais os dados para compreenção geral das informações a que teremos acesso"
      ]
    },
    {
      "cell_type": "markdown",
      "metadata": {
        "id": "RYgvuebKNg8-"
      },
      "source": [
        "**Dicionário das variáveis**\n",
        "\n",
        "* id - número identificador\n",
        "* name - anúncio do imóvel\n",
        "* host id - identificador do proprietário\n",
        "* host_name - nome do proprietário do imóvel\n",
        "* neighbourhood_group - área da cidade, Zurich é dividida em 12 Kreis\t\n",
        "* neighbourhood - bairro\t\n",
        "* latitude - latitude da localização do imóvel\n",
        "* longitude - longitude da localização do imóvel\t\n",
        "* room_type\t- tipo de acomodação\n",
        "* price\t- custo do aluguel da propriedade\n",
        "* minimum_nights - quantidade minima de noites que podem ser reservadas\t\n",
        "* number_of_reviews\t- número de avaliações\n",
        "* last_review\t- data da última avaliação\n",
        "* reviews_per_month\t- avaliações por mês\n",
        "* calculated_host_listings_count\t- quantidade de imóveis do mesmo proprietário\n",
        "* availability_365 - número de disponibilidade, nos próximos 365 dias\n",
        "\n",
        "Antes de iniciar qualquer análise, vamos verificar a cara do nosso *dataset*, analisando as 5 primeiras entradas."
      ]
    },
    {
      "cell_type": "code",
      "metadata": {
        "id": "2iS_dae7YQtO",
        "colab": {
          "base_uri": "https://localhost:8080/",
          "height": 430
        },
        "outputId": "ffeec464-a83e-44a4-82c5-d1c6d1621ee1"
      },
      "source": [
        "# mostrar as 5 primeiras entradas\n",
        "df.head()"
      ],
      "execution_count": 5,
      "outputs": [
        {
          "output_type": "execute_result",
          "data": {
            "text/html": [
              "<div>\n",
              "<style scoped>\n",
              "    .dataframe tbody tr th:only-of-type {\n",
              "        vertical-align: middle;\n",
              "    }\n",
              "\n",
              "    .dataframe tbody tr th {\n",
              "        vertical-align: top;\n",
              "    }\n",
              "\n",
              "    .dataframe thead th {\n",
              "        text-align: right;\n",
              "    }\n",
              "</style>\n",
              "<table border=\"1\" class=\"dataframe\">\n",
              "  <thead>\n",
              "    <tr style=\"text-align: right;\">\n",
              "      <th></th>\n",
              "      <th>id</th>\n",
              "      <th>name</th>\n",
              "      <th>host_id</th>\n",
              "      <th>host_name</th>\n",
              "      <th>neighbourhood_group</th>\n",
              "      <th>neighbourhood</th>\n",
              "      <th>latitude</th>\n",
              "      <th>longitude</th>\n",
              "      <th>room_type</th>\n",
              "      <th>price</th>\n",
              "      <th>minimum_nights</th>\n",
              "      <th>number_of_reviews</th>\n",
              "      <th>last_review</th>\n",
              "      <th>reviews_per_month</th>\n",
              "      <th>calculated_host_listings_count</th>\n",
              "      <th>availability_365</th>\n",
              "    </tr>\n",
              "  </thead>\n",
              "  <tbody>\n",
              "    <tr>\n",
              "      <th>0</th>\n",
              "      <td>73282</td>\n",
              "      <td>Clean, central, quiet</td>\n",
              "      <td>377532</td>\n",
              "      <td>Simona</td>\n",
              "      <td>Kreis 3</td>\n",
              "      <td>Sihlfeld</td>\n",
              "      <td>47.37374</td>\n",
              "      <td>8.51957</td>\n",
              "      <td>Entire home/apt</td>\n",
              "      <td>100</td>\n",
              "      <td>3</td>\n",
              "      <td>49</td>\n",
              "      <td>2019-03-28</td>\n",
              "      <td>0.46</td>\n",
              "      <td>1</td>\n",
              "      <td>0</td>\n",
              "    </tr>\n",
              "    <tr>\n",
              "      <th>1</th>\n",
              "      <td>86645</td>\n",
              "      <td>Stadium Letzigrund - by Airhome</td>\n",
              "      <td>475053</td>\n",
              "      <td>James</td>\n",
              "      <td>Kreis 3</td>\n",
              "      <td>Sihlfeld</td>\n",
              "      <td>47.38038</td>\n",
              "      <td>8.50461</td>\n",
              "      <td>Entire home/apt</td>\n",
              "      <td>180</td>\n",
              "      <td>1</td>\n",
              "      <td>49</td>\n",
              "      <td>2017-10-24</td>\n",
              "      <td>0.53</td>\n",
              "      <td>18</td>\n",
              "      <td>179</td>\n",
              "    </tr>\n",
              "    <tr>\n",
              "      <th>2</th>\n",
              "      <td>143821</td>\n",
              "      <td>marvelous LOFT in SIHLCITY Zürich</td>\n",
              "      <td>697307</td>\n",
              "      <td>Erhan</td>\n",
              "      <td>Kreis 3</td>\n",
              "      <td>Alt-Wiedikon</td>\n",
              "      <td>47.35724</td>\n",
              "      <td>8.52304</td>\n",
              "      <td>Entire home/apt</td>\n",
              "      <td>200</td>\n",
              "      <td>3</td>\n",
              "      <td>0</td>\n",
              "      <td>NaN</td>\n",
              "      <td>NaN</td>\n",
              "      <td>1</td>\n",
              "      <td>276</td>\n",
              "    </tr>\n",
              "    <tr>\n",
              "      <th>3</th>\n",
              "      <td>178448</td>\n",
              "      <td>a lovely place, top location</td>\n",
              "      <td>854016</td>\n",
              "      <td>Delphine</td>\n",
              "      <td>Kreis 2</td>\n",
              "      <td>Enge</td>\n",
              "      <td>47.36565</td>\n",
              "      <td>8.52753</td>\n",
              "      <td>Private room</td>\n",
              "      <td>60</td>\n",
              "      <td>5</td>\n",
              "      <td>9</td>\n",
              "      <td>2016-05-10</td>\n",
              "      <td>0.14</td>\n",
              "      <td>1</td>\n",
              "      <td>108</td>\n",
              "    </tr>\n",
              "    <tr>\n",
              "      <th>4</th>\n",
              "      <td>204586</td>\n",
              "      <td>very nice luxury city apartment</td>\n",
              "      <td>1004816</td>\n",
              "      <td>Aicha</td>\n",
              "      <td>Kreis 10</td>\n",
              "      <td>Höngg</td>\n",
              "      <td>47.40656</td>\n",
              "      <td>8.48465</td>\n",
              "      <td>Private room</td>\n",
              "      <td>200</td>\n",
              "      <td>3</td>\n",
              "      <td>0</td>\n",
              "      <td>NaN</td>\n",
              "      <td>NaN</td>\n",
              "      <td>1</td>\n",
              "      <td>364</td>\n",
              "    </tr>\n",
              "  </tbody>\n",
              "</table>\n",
              "</div>"
            ],
            "text/plain": [
              "       id  ... availability_365\n",
              "0   73282  ...                0\n",
              "1   86645  ...              179\n",
              "2  143821  ...              276\n",
              "3  178448  ...              108\n",
              "4  204586  ...              364\n",
              "\n",
              "[5 rows x 16 columns]"
            ]
          },
          "metadata": {
            "tags": []
          },
          "execution_count": 5
        }
      ]
    },
    {
      "cell_type": "markdown",
      "metadata": {
        "id": "6-B_qtEaYEd-"
      },
      "source": [
        "### **Q1. Quantos atributos (variáveis) e quantas entradas o nosso conjunto de dados possui? Quais os tipos das variáveis?**"
      ]
    },
    {
      "cell_type": "code",
      "metadata": {
        "id": "TFRK0tniLV-G",
        "colab": {
          "base_uri": "https://localhost:8080/",
          "height": 347
        },
        "outputId": "670d5167-4a27-42b3-f7ad-68bd6719b9b8"
      },
      "source": [
        "# identificar o volume de dados do DataFrame - para saber o número de entradas determinaremos o número de linhas, \n",
        "#para saber o número de variáveis determinaremos o número de colunas através do método .shape \n",
        "print(\"Entradas:\\t{}\".format(df.shape[0]))\n",
        "print(\"Variáveis:\\t{}\".format(df.shape[1]))\n",
        "\n",
        "# verificar as 5 primeiras entradas do dataset\n",
        "display(df.dtypes)\n"
      ],
      "execution_count": 6,
      "outputs": [
        {
          "output_type": "stream",
          "text": [
            "Entradas:\t1828\n",
            "Variáveis:\t16\n"
          ],
          "name": "stdout"
        },
        {
          "output_type": "display_data",
          "data": {
            "text/plain": [
              "id                                  int64\n",
              "name                               object\n",
              "host_id                             int64\n",
              "host_name                          object\n",
              "neighbourhood_group                object\n",
              "neighbourhood                      object\n",
              "latitude                          float64\n",
              "longitude                         float64\n",
              "room_type                          object\n",
              "price                               int64\n",
              "minimum_nights                      int64\n",
              "number_of_reviews                   int64\n",
              "last_review                        object\n",
              "reviews_per_month                 float64\n",
              "calculated_host_listings_count      int64\n",
              "availability_365                    int64\n",
              "dtype: object"
            ]
          },
          "metadata": {
            "tags": []
          }
        }
      ]
    },
    {
      "cell_type": "markdown",
      "metadata": {
        "id": "yz1urSUGW9iE"
      },
      "source": [
        "### **Q2. Qual a porcentagem de valores ausentes no *dataset*?**\n",
        "Avaliaremos a qualidade de nossa base de dados, como estamos utilizando a versão \"simplificada\" do arquivo não teremos muitos dados, nesse sentido, embora facilite a análise, nosso espaço amostral se reduz. Portanto, neste nosso estudo entender a proporção de valores ausentes torna-se relevante.\n",
        "Nosso dataset apresenta ótima qualidade! Apenas 4 colunas apresentam valores ausentes, duas delas relevantes:\n",
        "\n",
        "* A Coluna de avaliações por mês apresentam 23,8% de valores nulos, o que, inicialmente não é um problema, um imóvel pode ficar mais de um mês sem visitação ou o hóspede pode optar por não avaliar;\n",
        "* A coluna da data da última avaliação apresenta 23,8% de valores nulos, identico ao anterior, o que pode nos indicar que foram imóvei que ficaram vazios durante o mês (podemos verificar essa hipótese na análise);\n"
      ]
    },
    {
      "cell_type": "code",
      "metadata": {
        "id": "plk2FjbCXOqP",
        "colab": {
          "base_uri": "https://localhost:8080/"
        },
        "outputId": "f3c59d7c-6293-48b3-ee8d-c13d24ca61ca"
      },
      "source": [
        "# ordenar em ordem decrescente as variáveis por seus valores ausentes\n",
        "(df.isnull().sum() / df.shape[0]).sort_values(ascending=False)"
      ],
      "execution_count": 7,
      "outputs": [
        {
          "output_type": "execute_result",
          "data": {
            "text/plain": [
              "reviews_per_month                 0.235777\n",
              "last_review                       0.235777\n",
              "host_name                         0.002188\n",
              "name                              0.000547\n",
              "availability_365                  0.000000\n",
              "calculated_host_listings_count    0.000000\n",
              "number_of_reviews                 0.000000\n",
              "minimum_nights                    0.000000\n",
              "price                             0.000000\n",
              "room_type                         0.000000\n",
              "longitude                         0.000000\n",
              "latitude                          0.000000\n",
              "neighbourhood                     0.000000\n",
              "neighbourhood_group               0.000000\n",
              "host_id                           0.000000\n",
              "id                                0.000000\n",
              "dtype: float64"
            ]
          },
          "metadata": {
            "tags": []
          },
          "execution_count": 7
        }
      ]
    },
    {
      "cell_type": "markdown",
      "metadata": {
        "id": "iHXvvHIxaoNc"
      },
      "source": [
        "### **Q3. Qual o tipo de distribuição das variáveis?** "
      ]
    },
    {
      "cell_type": "code",
      "metadata": {
        "id": "q2wWSfeRbmBo",
        "colab": {
          "base_uri": "https://localhost:8080/",
          "height": 607
        },
        "outputId": "ebc644d0-8a47-4d88-983d-d8c0149425f9"
      },
      "source": [
        "# plotar o histograma das variáveis numéricas\n",
        "df.hist(bins=15, figsize=(15,10));"
      ],
      "execution_count": 8,
      "outputs": [
        {
          "output_type": "display_data",
          "data": {
            "image/png": "[encoded data removed]",
            "text/plain": [
              "<Figure size 1080x720 with 12 Axes>"
            ]
          },
          "metadata": {
            "tags": [],
            "needs_background": "light"
          }
        }
      ]
    },
    {
      "cell_type": "markdown",
      "metadata": {
        "id": "7x4aw1j5wNmn"
      },
      "source": [
        "### **Q4. Qual a média dos preços de aluguel?**\n",
        "\n",
        "Quando determinamos a média da variável preço obtemos $ 167.99, entretanto o dado \"cru\" talvez não seja a melhor forma de verificar essa média, podemos notar pelo histograma gerado que algumas variáveis não apresentam distribuições e aparentemente estão distorcidas por outliers.\n",
        "\n",
        "Dado esse fato o ideal para nossa análise será desconsiderar os outliers e aí sim determinar a média de preços.\n"
      ]
    },
    {
      "cell_type": "code",
      "metadata": {
        "id": "ff-8gUahLk-C",
        "colab": {
          "base_uri": "https://localhost:8080/"
        },
        "outputId": "ec4acbfd-0a1e-48dd-923a-9d74f9c2f4a7"
      },
      "source": [
        "# ver a média da coluna `price``\n",
        "df.price.mean()"
      ],
      "execution_count": 14,
      "outputs": [
        {
          "output_type": "execute_result",
          "data": {
            "text/plain": [
              "167.98960612691465"
            ]
          },
          "metadata": {
            "tags": []
          },
          "execution_count": 14
        }
      ]
    },
    {
      "cell_type": "code",
      "metadata": {
        "colab": {
          "base_uri": "https://localhost:8080/"
        },
        "id": "KB67-rT3m8cV",
        "outputId": "7e1c70a5-a634-4bae-b99c-b6d9edaeca54"
      },
      "source": [
        "# tratamento de outliers para 'price'\n",
        "df['price'].describe()"
      ],
      "execution_count": 16,
      "outputs": [
        {
          "output_type": "execute_result",
          "data": {
            "text/plain": [
              "count    1828.000000\n",
              "mean      167.989606\n",
              "std       380.074179\n",
              "min         0.000000\n",
              "25%        70.000000\n",
              "50%       103.500000\n",
              "75%       165.000000\n",
              "max      9974.000000\n",
              "Name: price, dtype: float64"
            ]
          },
          "metadata": {
            "tags": []
          },
          "execution_count": 16
        }
      ]
    },
    {
      "cell_type": "markdown",
      "metadata": {
        "id": "QQv5LFpzn1Fi"
      },
      "source": [
        "Notamos no resumo estatístico acima que:\n",
        "* A varíavel price possuí 75% dos valores abaixo de 165, mas seu valor máximo é de 9.974\n",
        "\n",
        "Vamos agora utilizar um Boxplot para price\n"
      ]
    },
    {
      "cell_type": "code",
      "metadata": {
        "colab": {
          "base_uri": "https://localhost:8080/",
          "height": 281
        },
        "id": "sfwXkCD8opj_",
        "outputId": "6e114dd5-5088-4000-cf32-4835c0bb7356"
      },
      "source": [
        "df.price.plot(kind='box', vert=False, figsize=(15,3))\n",
        "plt.show;\n",
        "\n",
        "print(\"\\nprice: valores acima de 1000\")\n",
        "print(\"{} entradas\".format(len(df[df.price > 1000])))\n",
        "print(\"{:.4f}%\".format((len(df[df.price > 1000]) / df.shape[0])*100))"
      ],
      "execution_count": 139,
      "outputs": [
        {
          "output_type": "stream",
          "text": [
            "\n",
            "price: valores acima de 1000\n",
            "10 entradas\n",
            "0.5470%\n"
          ],
          "name": "stdout"
        },
        {
          "output_type": "display_data",
          "data": {
            "image/png": "[encoded data removed]",
            "text/plain": [
              "<Figure size 1080x216 with 1 Axes>"
            ]
          },
          "metadata": {
            "tags": [],
            "needs_background": "light"
          }
        }
      ]
    },
    {
      "cell_type": "markdown",
      "metadata": {
        "id": "mPriJDvFo9vO"
      },
      "source": [
        "Notamos clara distorção, temos poucos valores acima de 2000.\n",
        "Nesse ponto precisamos tomar cuidado - esses 7 valores destoam da distribuição e podem distorcer nossa análise, portanto vamos gerar um dataset sem esses valores"
      ]
    },
    {
      "cell_type": "code",
      "metadata": {
        "colab": {
          "base_uri": "https://localhost:8080/"
        },
        "id": "_M19rbOhqxl_",
        "outputId": "fc1c078f-4353-434b-a902-763bd8bdf14b"
      },
      "source": [
        "# Gerar um DataFrame sem os valores distrocidos\n",
        "df_clean = df.copy()\n",
        "df_clean.drop(df_clean[df_clean.price>1000].index, axis = 0, inplace=True)\n",
        "df_clean.price.mean()"
      ],
      "execution_count": 141,
      "outputs": [
        {
          "output_type": "execute_result",
          "data": {
            "text/plain": [
              "148.68536853685367"
            ]
          },
          "metadata": {
            "tags": []
          },
          "execution_count": 141
        }
      ]
    },
    {
      "cell_type": "markdown",
      "metadata": {
        "id": "oKc-wY8Qrs2s"
      },
      "source": [
        "**Concluímos pela nossa análise que o preço médio do imóvel em Zurich é de 148.7 dólares por noite.**"
      ]
    },
    {
      "cell_type": "markdown",
      "metadata": {
        "id": "IXn2oIo5qx-w"
      },
      "source": [
        "### **Q4. Qual a correlação existente entre as variáveis**\n",
        "\n",
        "Para entender a relação entre as variáveis vamos gerar as correlações entre estas. Quando mais próximo de 1, maior é a correlção.\n",
        "Para gerar essa informação consideraremos algumas variáveis de interesse - 'price','minimum_nights','number_of_reviews','reviews_per_month','calculated_host_listings_count','availability_365'"
      ]
    },
    {
      "cell_type": "code",
      "metadata": {
        "id": "x2ayzBajqxyd",
        "colab": {
          "base_uri": "https://localhost:8080/",
          "height": 233
        },
        "outputId": "86dbe8d7-6555-46cb-ae99-43c4bdd562e2"
      },
      "source": [
        "# criar uma matriz de correlação\n",
        "corr = df[['price','minimum_nights','number_of_reviews','reviews_per_month','calculated_host_listings_count','availability_365']].corr()\n",
        "# mostrar a matriz de correlação\n",
        "display(corr)"
      ],
      "execution_count": 142,
      "outputs": [
        {
          "output_type": "display_data",
          "data": {
            "text/html": [
              "<div>\n",
              "<style scoped>\n",
              "    .dataframe tbody tr th:only-of-type {\n",
              "        vertical-align: middle;\n",
              "    }\n",
              "\n",
              "    .dataframe tbody tr th {\n",
              "        vertical-align: top;\n",
              "    }\n",
              "\n",
              "    .dataframe thead th {\n",
              "        text-align: right;\n",
              "    }\n",
              "</style>\n",
              "<table border=\"1\" class=\"dataframe\">\n",
              "  <thead>\n",
              "    <tr style=\"text-align: right;\">\n",
              "      <th></th>\n",
              "      <th>price</th>\n",
              "      <th>minimum_nights</th>\n",
              "      <th>number_of_reviews</th>\n",
              "      <th>reviews_per_month</th>\n",
              "      <th>calculated_host_listings_count</th>\n",
              "      <th>availability_365</th>\n",
              "    </tr>\n",
              "  </thead>\n",
              "  <tbody>\n",
              "    <tr>\n",
              "      <th>price</th>\n",
              "      <td>1.000000</td>\n",
              "      <td>-0.009511</td>\n",
              "      <td>-0.042384</td>\n",
              "      <td>-0.056023</td>\n",
              "      <td>0.151229</td>\n",
              "      <td>0.086917</td>\n",
              "    </tr>\n",
              "    <tr>\n",
              "      <th>minimum_nights</th>\n",
              "      <td>-0.009511</td>\n",
              "      <td>1.000000</td>\n",
              "      <td>-0.076683</td>\n",
              "      <td>-0.098173</td>\n",
              "      <td>-0.022063</td>\n",
              "      <td>0.071641</td>\n",
              "    </tr>\n",
              "    <tr>\n",
              "      <th>number_of_reviews</th>\n",
              "      <td>-0.042384</td>\n",
              "      <td>-0.076683</td>\n",
              "      <td>1.000000</td>\n",
              "      <td>0.641900</td>\n",
              "      <td>-0.009066</td>\n",
              "      <td>-0.007919</td>\n",
              "    </tr>\n",
              "    <tr>\n",
              "      <th>reviews_per_month</th>\n",
              "      <td>-0.056023</td>\n",
              "      <td>-0.098173</td>\n",
              "      <td>0.641900</td>\n",
              "      <td>1.000000</td>\n",
              "      <td>-0.052000</td>\n",
              "      <td>-0.050818</td>\n",
              "    </tr>\n",
              "    <tr>\n",
              "      <th>calculated_host_listings_count</th>\n",
              "      <td>0.151229</td>\n",
              "      <td>-0.022063</td>\n",
              "      <td>-0.009066</td>\n",
              "      <td>-0.052000</td>\n",
              "      <td>1.000000</td>\n",
              "      <td>0.098824</td>\n",
              "    </tr>\n",
              "    <tr>\n",
              "      <th>availability_365</th>\n",
              "      <td>0.086917</td>\n",
              "      <td>0.071641</td>\n",
              "      <td>-0.007919</td>\n",
              "      <td>-0.050818</td>\n",
              "      <td>0.098824</td>\n",
              "      <td>1.000000</td>\n",
              "    </tr>\n",
              "  </tbody>\n",
              "</table>\n",
              "</div>"
            ],
            "text/plain": [
              "                                   price  ...  availability_365\n",
              "price                           1.000000  ...          0.086917\n",
              "minimum_nights                 -0.009511  ...          0.071641\n",
              "number_of_reviews              -0.042384  ...         -0.007919\n",
              "reviews_per_month              -0.056023  ...         -0.050818\n",
              "calculated_host_listings_count  0.151229  ...          0.098824\n",
              "availability_365                0.086917  ...          1.000000\n",
              "\n",
              "[6 rows x 6 columns]"
            ]
          },
          "metadata": {
            "tags": []
          }
        }
      ]
    },
    {
      "cell_type": "code",
      "metadata": {
        "id": "91UujDr6ueqE",
        "colab": {
          "base_uri": "https://localhost:8080/",
          "height": 411
        },
        "outputId": "ca4a1d18-27aa-475f-a4cc-f8b268b1337b"
      },
      "source": [
        "# plotar um heatmap a partir das correlações\n",
        "sns.heatmap(corr, cmap='GnBu', fmt='.1f', square=True, linecolor='black', annot=True);\n"
      ],
      "execution_count": 143,
      "outputs": [
        {
          "output_type": "display_data",
          "data": {
            "image/png": "[encoded data removed]",
            "text/plain": [
              "<Figure size 432x288 with 2 Axes>"
            ]
          },
          "metadata": {
            "tags": [],
            "needs_background": "light"
          }
        }
      ]
    },
    {
      "cell_type": "markdown",
      "metadata": {
        "id": "7b6RMWpuHKN-"
      },
      "source": [
        "### **Q5. Qual o tipo de imóvel mais alugado no Airbnb em Zurich?**\n",
        "\n",
        "Agora vamos dar uma olhada no tipo de imóvel mais alugado em Zurich, nossa base de dados mostra que casa inteira ou apartamentos é a modalidade mais disponível na cidade, repesentando ~ 66% da base de imóveis do Airbnb."
      ]
    },
    {
      "cell_type": "code",
      "metadata": {
        "id": "ueLPNWvPHgfB",
        "colab": {
          "base_uri": "https://localhost:8080/"
        },
        "outputId": "35fc67b4-9c34-4aba-c290-f0f2809a5f61"
      },
      "source": [
        "# mostrar a quantidade de cada tipo de imóvel disponível\n",
        "df.room_type.value_counts(ascending=False)\n"
      ],
      "execution_count": 144,
      "outputs": [
        {
          "output_type": "execute_result",
          "data": {
            "text/plain": [
              "Entire home/apt    1204\n",
              "Private room        597\n",
              "Shared room          17\n",
              "Hotel room           10\n",
              "Name: room_type, dtype: int64"
            ]
          },
          "metadata": {
            "tags": []
          },
          "execution_count": 144
        }
      ]
    },
    {
      "cell_type": "code",
      "metadata": {
        "id": "EvwoO-XAHhIm",
        "colab": {
          "base_uri": "https://localhost:8080/"
        },
        "outputId": "6ccf4dc5-c14c-41b4-9bee-ff1eb1e6a661"
      },
      "source": [
        "# mostrar a porcentagem de cada tipo de imóvel disponível\n",
        "df.room_type.value_counts()/ df.shape[0]\n"
      ],
      "execution_count": 145,
      "outputs": [
        {
          "output_type": "execute_result",
          "data": {
            "text/plain": [
              "Entire home/apt    0.658643\n",
              "Private room       0.326586\n",
              "Shared room        0.009300\n",
              "Hotel room         0.005470\n",
              "Name: room_type, dtype: float64"
            ]
          },
          "metadata": {
            "tags": []
          },
          "execution_count": 145
        }
      ]
    },
    {
      "cell_type": "markdown",
      "metadata": {
        "id": "MFa5NbnLJMcd"
      },
      "source": [
        "### **Q6. Qual a localidade mais cara do dataset?**\n",
        "Pare determinarmos a localidade mais cara, utilizaremos nosso Dataframe com o tratamento de outliers. Mas antes disso, vamos descrever nossa variável - temos 1818 entradas de dados, sendo que o bairro que mais tem imóveis é Langstrasse. Temos também 34 entradas únicas, o que nos aponta que a simples análise de média de preços por bairros, pode não ser a ideal para determinação do bairro mais caro. Nesse sentido, talvez uma abordagem interessante seria a de tratar os dados no detalhe: (i) verificando se temos entradas de dados suficientes por bairro, bem como (ii) o tratamento de outliers de preço por bairro.\n",
        "\n",
        "Os bairros que apresentam as médias mais caras são: City, Altstetten e Albisrieden. Sendo que City possuem 22, 117 e 35 propriedades respectivamente. Portanto, precisamos tomar cuidado com conclusões sobre o preço desses bairros uma vez que algum deles apresentam poucas propriedades.\n",
        "\n"
      ]
    },
    {
      "cell_type": "code",
      "metadata": {
        "colab": {
          "base_uri": "https://localhost:8080/"
        },
        "id": "fgrGScReAnVr",
        "outputId": "f8bd4ea3-350c-4a19-c106-5e9fcb44b315"
      },
      "source": [
        "df_clean.neighbourhood.describe()"
      ],
      "execution_count": 146,
      "outputs": [
        {
          "output_type": "execute_result",
          "data": {
            "text/plain": [
              "count            1818\n",
              "unique             34\n",
              "top       Langstrasse\n",
              "freq              126\n",
              "Name: neighbourhood, dtype: object"
            ]
          },
          "metadata": {
            "tags": []
          },
          "execution_count": 146
        }
      ]
    },
    {
      "cell_type": "code",
      "metadata": {
        "id": "MD_xa143JZpi",
        "colab": {
          "base_uri": "https://localhost:8080/"
        },
        "outputId": "ca2f7f72-effd-4f09-f8da-5304723c4a0f"
      },
      "source": [
        "# ver preços por bairros, na média\n",
        "df_clean.groupby(['neighbourhood']).price.mean().sort_values(ascending=False)\n"
      ],
      "execution_count": 147,
      "outputs": [
        {
          "output_type": "execute_result",
          "data": {
            "text/plain": [
              "neighbourhood\n",
              "City                    337.272727\n",
              "Altstetten              233.358333\n",
              "Albisrieden             232.400000\n",
              "Lindenhof               208.558824\n",
              "Rathaus                 200.329268\n",
              "Seefeld                 191.489583\n",
              "Unterstrass             161.746479\n",
              "Langstrasse             159.007937\n",
              "Oerlikon                157.983333\n",
              "Escher Wyss             157.375000\n",
              "Weinegg                 151.950000\n",
              "Hochschulen             139.833333\n",
              "Wollishofen             137.117647\n",
              "Mühlebach               133.740260\n",
              "Fluntern                133.720930\n",
              "Hottingen               130.590164\n",
              "Werd                    129.308824\n",
              "Sihlfeld                125.806122\n",
              "Enge                    122.637500\n",
              "Hirslanden              122.292683\n",
              "Höngg                   120.810811\n",
              "Oberstrass              119.613636\n",
              "Hard                    117.614035\n",
              "Witikon                 114.518519\n",
              "Alt-Wiedikon            114.484211\n",
              "Seebach                 113.597222\n",
              "Gewerbeschule           112.285714\n",
              "Friesenberg             103.307692\n",
              "Saatlen                  95.666667\n",
              "Wipkingen                93.232143\n",
              "Hirzenbach               87.666667\n",
              "Affoltern                83.521739\n",
              "Schwamendingen-Mitte     78.833333\n",
              "Leimbach                 54.666667\n",
              "Name: price, dtype: float64"
            ]
          },
          "metadata": {
            "tags": []
          },
          "execution_count": 147
        }
      ]
    },
    {
      "cell_type": "code",
      "metadata": {
        "colab": {
          "base_uri": "https://localhost:8080/"
        },
        "id": "iAlyYrGUNUAJ",
        "outputId": "5d250f9e-8131-47f2-9eef-e8dbe87612ff"
      },
      "source": [
        "df_clean.neighbourhood.value_counts()"
      ],
      "execution_count": 157,
      "outputs": [
        {
          "output_type": "execute_result",
          "data": {
            "text/plain": [
              "Langstrasse             123\n",
              "Oerlikon                118\n",
              "Altstetten              117\n",
              "Seefeld                  96\n",
              "Alt-Wiedikon             95\n",
              "Sihlfeld                 93\n",
              "Rathaus                  82\n",
              "Enge                     80\n",
              "Mühlebach                76\n",
              "Seebach                  72\n",
              "Unterstrass              68\n",
              "Werd                     68\n",
              "Gewerbeschule            63\n",
              "Hottingen                61\n",
              "Hard                     57\n",
              "Wipkingen                55\n",
              "Wollishofen              50\n",
              "Oberstrass               42\n",
              "Fluntern                 42\n",
              "Hirslanden               39\n",
              "Albisrieden              35\n",
              "Höngg                    35\n",
              "Lindenhof                34\n",
              "Escher Wyss              32\n",
              "Witikon                  27\n",
              "Affoltern                23\n",
              "City                     22\n",
              "Hirzenbach               20\n",
              "Weinegg                  20\n",
              "Friesenberg              13\n",
              "Hochschulen              12\n",
              "Schwamendingen-Mitte     12\n",
              "Saatlen                   5\n",
              "Leimbach                  3\n",
              "Name: neighbourhood, dtype: int64"
            ]
          },
          "metadata": {
            "tags": []
          },
          "execution_count": 157
        }
      ]
    },
    {
      "cell_type": "code",
      "metadata": {
        "id": "UxVJqJ_3W59I",
        "colab": {
          "base_uri": "https://localhost:8080/",
          "height": 363
        },
        "outputId": "278e55b3-380e-474a-df53-211a5a5b75d1"
      },
      "source": [
        "# plotar os imóveis pela latitude-longitude\n",
        "df.plot(kind=\"scatter\", x='longitude', y='latitude', alpha=0.4, c=df['price'],s=8,\n",
        "        cmap=plt.get_cmap('jet'),figsize=(10,6), );\n"
      ],
      "execution_count": 148,
      "outputs": [
        {
          "output_type": "display_data",
          "data": {
            "image/png": "[encoded data removed]",
            "text/plain": [
              "<Figure size 720x432 with 2 Axes>"
            ]
          },
          "metadata": {
            "tags": [],
            "needs_background": "light"
          }
        }
      ]
    },
    {
      "cell_type": "markdown",
      "metadata": {
        "id": "vTneAMRUYvr1"
      },
      "source": [
        "### **Q7. Qual é a média do mínimo de noites para aluguel (minimum_nights)?**\n",
        "Com base nos histogramas podemos perceber que a variável minimum_nights possui distorções, por isso iremos verificar se também é o caso de desconsiderarmos alguns outliers para análise da média."
      ]
    },
    {
      "cell_type": "code",
      "metadata": {
        "id": "_VzNhrEgY82N",
        "colab": {
          "base_uri": "https://localhost:8080/"
        },
        "outputId": "686a8f27-9d7f-41d0-e175-251df77d38dd"
      },
      "source": [
        "# ver a média da coluna `minimum_nights``\n",
        "df.minimum_nights.mean()"
      ],
      "execution_count": 115,
      "outputs": [
        {
          "output_type": "execute_result",
          "data": {
            "text/plain": [
              "7.160284463894967"
            ]
          },
          "metadata": {
            "tags": []
          },
          "execution_count": 115
        }
      ]
    },
    {
      "cell_type": "code",
      "metadata": {
        "colab": {
          "base_uri": "https://localhost:8080/"
        },
        "id": "A_IamwIjDiX7",
        "outputId": "f5ddb771-0262-4afc-a138-0f3ee9c54a48"
      },
      "source": [
        "# descrever a variável para determinar outliers\n",
        "df.minimum_nights.describe()"
      ],
      "execution_count": 126,
      "outputs": [
        {
          "output_type": "execute_result",
          "data": {
            "text/plain": [
              "count    1828.000000\n",
              "mean        7.160284\n",
              "std        21.190357\n",
              "min         1.000000\n",
              "25%         1.000000\n",
              "50%         2.000000\n",
              "75%         5.000000\n",
              "max       365.000000\n",
              "Name: minimum_nights, dtype: float64"
            ]
          },
          "metadata": {
            "tags": []
          },
          "execution_count": 126
        }
      ]
    },
    {
      "cell_type": "markdown",
      "metadata": {
        "id": "55gCntdRDrxf"
      },
      "source": [
        "Verificamos que até 75% dos valores são <= a 5 sendo que o valor máximo é de 365 o que nos indica a existência de ouliers, como desconfiávamos. Vamos excluír os outliers por prevenção."
      ]
    },
    {
      "cell_type": "code",
      "metadata": {
        "colab": {
          "base_uri": "https://localhost:8080/",
          "height": 227
        },
        "id": "uRsEMg4sDqwS",
        "outputId": "6b23d534-060e-4819-a5a1-4ad8739f63ec"
      },
      "source": [
        "df.minimum_nights.plot(kind='box',vert=False, figsize=(13,2))\n",
        "plt.show()\n",
        "print(\"\\nminimum_nights: valores acima de 50\")\n",
        "print(\"{} entradas\".format(len(df[df.minimum_nights > 50])))\n",
        "print(\"{:.4f}%\".format((len(df[df.minimum_nights > 50]) / df.shape[0])*100))"
      ],
      "execution_count": 149,
      "outputs": [
        {
          "output_type": "display_data",
          "data": {
            "image/png": "[encoded data removed]",
            "text/plain": [
              "<Figure size 936x144 with 1 Axes>"
            ]
          },
          "metadata": {
            "tags": [],
            "needs_background": "light"
          }
        },
        {
          "output_type": "stream",
          "text": [
            "\n",
            "minimum_nights: valores acima de 50\n",
            "28 entradas\n",
            "1.5317%\n"
          ],
          "name": "stdout"
        }
      ]
    },
    {
      "cell_type": "code",
      "metadata": {
        "colab": {
          "base_uri": "https://localhost:8080/"
        },
        "id": "mViN6vFsEhb8",
        "outputId": "fb1a8084-2653-42a8-f9b2-36eea61aadb8"
      },
      "source": [
        "df_clean2 = df.copy()\n",
        "df_clean2.drop(df_clean[df_clean.price>1000].index, axis = 0, inplace=True)\n",
        "df_clean2.drop(df_clean[df_clean.minimum_nights>50].index, axis = 0, inplace=True)\n",
        "df_clean2.minimum_nights.mean()"
      ],
      "execution_count": 154,
      "outputs": [
        {
          "output_type": "execute_result",
          "data": {
            "text/plain": [
              "7.160284463894967"
            ]
          },
          "metadata": {
            "tags": []
          },
          "execution_count": 154
        }
      ]
    },
    {
      "cell_type": "markdown",
      "metadata": {
        "id": "XzXLU1bcInSh"
      },
      "source": [
        "A média de estadia para Zurich é de 7 dias, os usuários costumam alugar os imóveis por uma semana."
      ]
    },
    {
      "cell_type": "markdown",
      "metadata": {
        "id": "GkvAg623RjoR"
      },
      "source": [
        "## Conclusões\n"
      ]
    },
    {
      "cell_type": "markdown",
      "metadata": {
        "id": "rbZ3Hsy9Ypw8"
      },
      "source": [
        "Nossa análise inicial, mesmo que superficial nos permite chegar em algumas conclusões. No geral, os usuários do Airbnb costumam ficar em média 7 dias em Zurich, esse resultado faz sentido uma vez que a cidade é conhecida por ser um centro global bancário e financeiro e costuma sediar muitos eventos na área.\n",
        "\n",
        "O preço médio de estadia é 148.7 francos suíços, o que na cotação de hoje (07-08-2021) daria 856.51 reais, muito próximo do valor médio de uma estadia em hotel 3 estrelas na cidade, que é de 852 reais [Link da informação](https://search.google.com/local/places/hotel/categorical?q=Z%C3%BCrich+hotels&hotel_mode=1&sa=X&ved=2ahUKEwj4i43V1Z_yAhUxqZUCHeL5AwcQri4wKHoECC0QBQ)\n"
      ]
    }
  ]
}